{
 "cells": [
  {
   "cell_type": "code",
   "execution_count": null,
   "metadata": {},
   "outputs": [],
   "source": []
  },
  {
   "cell_type": "code",
   "execution_count": 1,
   "metadata": {},
   "outputs": [
    {
     "data": {
      "text/html": [
       "<div>\n",
       "<style scoped>\n",
       "    .dataframe tbody tr th:only-of-type {\n",
       "        vertical-align: middle;\n",
       "    }\n",
       "\n",
       "    .dataframe tbody tr th {\n",
       "        vertical-align: top;\n",
       "    }\n",
       "\n",
       "    .dataframe thead th {\n",
       "        text-align: right;\n",
       "    }\n",
       "</style>\n",
       "<table border=\"1\" class=\"dataframe\">\n",
       "  <thead>\n",
       "    <tr style=\"text-align: right;\">\n",
       "      <th></th>\n",
       "      <th>Mouse ID</th>\n",
       "      <th>Timepoint</th>\n",
       "      <th>Tumor Volume (mm3)</th>\n",
       "      <th>Metastatic Sites</th>\n",
       "      <th>Drug Regimen</th>\n",
       "      <th>Sex</th>\n",
       "      <th>Age_months</th>\n",
       "      <th>Weight (g)</th>\n",
       "    </tr>\n",
       "  </thead>\n",
       "  <tbody>\n",
       "    <tr>\n",
       "      <th>0</th>\n",
       "      <td>b128</td>\n",
       "      <td>0</td>\n",
       "      <td>45.000000</td>\n",
       "      <td>0</td>\n",
       "      <td>Capomulin</td>\n",
       "      <td>Female</td>\n",
       "      <td>9</td>\n",
       "      <td>22</td>\n",
       "    </tr>\n",
       "    <tr>\n",
       "      <th>1</th>\n",
       "      <td>b128</td>\n",
       "      <td>5</td>\n",
       "      <td>45.651331</td>\n",
       "      <td>0</td>\n",
       "      <td>Capomulin</td>\n",
       "      <td>Female</td>\n",
       "      <td>9</td>\n",
       "      <td>22</td>\n",
       "    </tr>\n",
       "    <tr>\n",
       "      <th>2</th>\n",
       "      <td>b128</td>\n",
       "      <td>10</td>\n",
       "      <td>43.270852</td>\n",
       "      <td>0</td>\n",
       "      <td>Capomulin</td>\n",
       "      <td>Female</td>\n",
       "      <td>9</td>\n",
       "      <td>22</td>\n",
       "    </tr>\n",
       "    <tr>\n",
       "      <th>3</th>\n",
       "      <td>b128</td>\n",
       "      <td>15</td>\n",
       "      <td>43.784893</td>\n",
       "      <td>0</td>\n",
       "      <td>Capomulin</td>\n",
       "      <td>Female</td>\n",
       "      <td>9</td>\n",
       "      <td>22</td>\n",
       "    </tr>\n",
       "    <tr>\n",
       "      <th>4</th>\n",
       "      <td>b128</td>\n",
       "      <td>20</td>\n",
       "      <td>42.731552</td>\n",
       "      <td>0</td>\n",
       "      <td>Capomulin</td>\n",
       "      <td>Female</td>\n",
       "      <td>9</td>\n",
       "      <td>22</td>\n",
       "    </tr>\n",
       "    <tr>\n",
       "      <th>5</th>\n",
       "      <td>b128</td>\n",
       "      <td>25</td>\n",
       "      <td>43.262145</td>\n",
       "      <td>1</td>\n",
       "      <td>Capomulin</td>\n",
       "      <td>Female</td>\n",
       "      <td>9</td>\n",
       "      <td>22</td>\n",
       "    </tr>\n",
       "    <tr>\n",
       "      <th>6</th>\n",
       "      <td>b128</td>\n",
       "      <td>30</td>\n",
       "      <td>40.605335</td>\n",
       "      <td>1</td>\n",
       "      <td>Capomulin</td>\n",
       "      <td>Female</td>\n",
       "      <td>9</td>\n",
       "      <td>22</td>\n",
       "    </tr>\n",
       "    <tr>\n",
       "      <th>7</th>\n",
       "      <td>b128</td>\n",
       "      <td>35</td>\n",
       "      <td>37.967644</td>\n",
       "      <td>1</td>\n",
       "      <td>Capomulin</td>\n",
       "      <td>Female</td>\n",
       "      <td>9</td>\n",
       "      <td>22</td>\n",
       "    </tr>\n",
       "    <tr>\n",
       "      <th>8</th>\n",
       "      <td>b128</td>\n",
       "      <td>40</td>\n",
       "      <td>38.379726</td>\n",
       "      <td>2</td>\n",
       "      <td>Capomulin</td>\n",
       "      <td>Female</td>\n",
       "      <td>9</td>\n",
       "      <td>22</td>\n",
       "    </tr>\n",
       "    <tr>\n",
       "      <th>9</th>\n",
       "      <td>b128</td>\n",
       "      <td>45</td>\n",
       "      <td>38.982878</td>\n",
       "      <td>2</td>\n",
       "      <td>Capomulin</td>\n",
       "      <td>Female</td>\n",
       "      <td>9</td>\n",
       "      <td>22</td>\n",
       "    </tr>\n",
       "  </tbody>\n",
       "</table>\n",
       "</div>"
      ],
      "text/plain": [
       "  Mouse ID  Timepoint  Tumor Volume (mm3)  Metastatic Sites Drug Regimen  \\\n",
       "0     b128          0           45.000000                 0    Capomulin   \n",
       "1     b128          5           45.651331                 0    Capomulin   \n",
       "2     b128         10           43.270852                 0    Capomulin   \n",
       "3     b128         15           43.784893                 0    Capomulin   \n",
       "4     b128         20           42.731552                 0    Capomulin   \n",
       "5     b128         25           43.262145                 1    Capomulin   \n",
       "6     b128         30           40.605335                 1    Capomulin   \n",
       "7     b128         35           37.967644                 1    Capomulin   \n",
       "8     b128         40           38.379726                 2    Capomulin   \n",
       "9     b128         45           38.982878                 2    Capomulin   \n",
       "\n",
       "      Sex  Age_months  Weight (g)  \n",
       "0  Female           9          22  \n",
       "1  Female           9          22  \n",
       "2  Female           9          22  \n",
       "3  Female           9          22  \n",
       "4  Female           9          22  \n",
       "5  Female           9          22  \n",
       "6  Female           9          22  \n",
       "7  Female           9          22  \n",
       "8  Female           9          22  \n",
       "9  Female           9          22  "
      ]
     },
     "execution_count": 1,
     "metadata": {},
     "output_type": "execute_result"
    }
   ],
   "source": [
    "#dependencies \n",
    "import matplotlib.pyplot as plt\n",
    "import pandas as pd\n",
    "import scipy.stats as st\n",
    "import numpy as np\n",
    "#import regression line for last section\n",
    "from scipy.stats import linregress\n",
    "\n",
    "#path to data files\n",
    "mouse_metadata_path = \"data/Mouse_metadata.csv\"\n",
    "study_results_path = \"data/Study_results.csv\"\n",
    "\n",
    "#read the data in csv reader\n",
    "mouse_metadata = pd.read_csv(mouse_metadata_path)\n",
    "study_results = pd.read_csv(study_results_path)\n",
    "\n",
    "# mouse_metadata\n",
    "#study_results\n",
    "#combine/merge into a single dataset \n",
    "# put study_results first so mouse Id and timepoint are next to one another\n",
    "mouse_data = pd.merge(study_results, mouse_metadata)\n",
    "\n",
    "# display the table for preview\n",
    "mouse_data.head(10) "
   ]
  },
  {
   "cell_type": "code",
   "execution_count": 2,
   "metadata": {},
   "outputs": [
    {
     "data": {
      "text/plain": [
       "249"
      ]
     },
     "execution_count": 2,
     "metadata": {},
     "output_type": "execute_result"
    }
   ],
   "source": [
    "# checking the number of mice\n",
    "merged_mice_count = mouse_data['Mouse ID'].nunique()\n",
    "merged_mice_count"
   ]
  },
  {
   "cell_type": "code",
   "execution_count": 3,
   "metadata": {},
   "outputs": [
    {
     "data": {
      "text/plain": [
       "array(['g989'], dtype=object)"
      ]
     },
     "execution_count": 3,
     "metadata": {},
     "output_type": "execute_result"
    }
   ],
   "source": [
    "# getting the duplicate mice by ID number for Mouse ID\n",
    "# and timepoint need to do a .loc function\n",
    "# how to find duplicates in pandas https://pandas.pydata.org/pandas-docs/stable/reference/api/pandas.DataFrame.duplicated.html\n",
    "#subset is ID and timepoints \n",
    "duplicate_df = mouse_data.loc[mouse_data.duplicated(subset=['Mouse ID', 'Timepoint']), \"Mouse ID\"].unique()  \n",
    "duplicate_df\n"
   ]
  },
  {
   "cell_type": "code",
   "execution_count": 4,
   "metadata": {},
   "outputs": [
    {
     "data": {
      "text/html": [
       "<div>\n",
       "<style scoped>\n",
       "    .dataframe tbody tr th:only-of-type {\n",
       "        vertical-align: middle;\n",
       "    }\n",
       "\n",
       "    .dataframe tbody tr th {\n",
       "        vertical-align: top;\n",
       "    }\n",
       "\n",
       "    .dataframe thead th {\n",
       "        text-align: right;\n",
       "    }\n",
       "</style>\n",
       "<table border=\"1\" class=\"dataframe\">\n",
       "  <thead>\n",
       "    <tr style=\"text-align: right;\">\n",
       "      <th></th>\n",
       "      <th>Mouse ID</th>\n",
       "      <th>Timepoint</th>\n",
       "      <th>Tumor Volume (mm3)</th>\n",
       "      <th>Metastatic Sites</th>\n",
       "      <th>Drug Regimen</th>\n",
       "      <th>Sex</th>\n",
       "      <th>Age_months</th>\n",
       "      <th>Weight (g)</th>\n",
       "    </tr>\n",
       "  </thead>\n",
       "  <tbody>\n",
       "    <tr>\n",
       "      <th>0</th>\n",
       "      <td>b128</td>\n",
       "      <td>0</td>\n",
       "      <td>45.000000</td>\n",
       "      <td>0</td>\n",
       "      <td>Capomulin</td>\n",
       "      <td>Female</td>\n",
       "      <td>9</td>\n",
       "      <td>22</td>\n",
       "    </tr>\n",
       "    <tr>\n",
       "      <th>1</th>\n",
       "      <td>b128</td>\n",
       "      <td>5</td>\n",
       "      <td>45.651331</td>\n",
       "      <td>0</td>\n",
       "      <td>Capomulin</td>\n",
       "      <td>Female</td>\n",
       "      <td>9</td>\n",
       "      <td>22</td>\n",
       "    </tr>\n",
       "    <tr>\n",
       "      <th>2</th>\n",
       "      <td>b128</td>\n",
       "      <td>10</td>\n",
       "      <td>43.270852</td>\n",
       "      <td>0</td>\n",
       "      <td>Capomulin</td>\n",
       "      <td>Female</td>\n",
       "      <td>9</td>\n",
       "      <td>22</td>\n",
       "    </tr>\n",
       "    <tr>\n",
       "      <th>3</th>\n",
       "      <td>b128</td>\n",
       "      <td>15</td>\n",
       "      <td>43.784893</td>\n",
       "      <td>0</td>\n",
       "      <td>Capomulin</td>\n",
       "      <td>Female</td>\n",
       "      <td>9</td>\n",
       "      <td>22</td>\n",
       "    </tr>\n",
       "    <tr>\n",
       "      <th>4</th>\n",
       "      <td>b128</td>\n",
       "      <td>20</td>\n",
       "      <td>42.731552</td>\n",
       "      <td>0</td>\n",
       "      <td>Capomulin</td>\n",
       "      <td>Female</td>\n",
       "      <td>9</td>\n",
       "      <td>22</td>\n",
       "    </tr>\n",
       "    <tr>\n",
       "      <th>5</th>\n",
       "      <td>b128</td>\n",
       "      <td>25</td>\n",
       "      <td>43.262145</td>\n",
       "      <td>1</td>\n",
       "      <td>Capomulin</td>\n",
       "      <td>Female</td>\n",
       "      <td>9</td>\n",
       "      <td>22</td>\n",
       "    </tr>\n",
       "    <tr>\n",
       "      <th>6</th>\n",
       "      <td>b128</td>\n",
       "      <td>30</td>\n",
       "      <td>40.605335</td>\n",
       "      <td>1</td>\n",
       "      <td>Capomulin</td>\n",
       "      <td>Female</td>\n",
       "      <td>9</td>\n",
       "      <td>22</td>\n",
       "    </tr>\n",
       "    <tr>\n",
       "      <th>7</th>\n",
       "      <td>b128</td>\n",
       "      <td>35</td>\n",
       "      <td>37.967644</td>\n",
       "      <td>1</td>\n",
       "      <td>Capomulin</td>\n",
       "      <td>Female</td>\n",
       "      <td>9</td>\n",
       "      <td>22</td>\n",
       "    </tr>\n",
       "    <tr>\n",
       "      <th>8</th>\n",
       "      <td>b128</td>\n",
       "      <td>40</td>\n",
       "      <td>38.379726</td>\n",
       "      <td>2</td>\n",
       "      <td>Capomulin</td>\n",
       "      <td>Female</td>\n",
       "      <td>9</td>\n",
       "      <td>22</td>\n",
       "    </tr>\n",
       "    <tr>\n",
       "      <th>9</th>\n",
       "      <td>b128</td>\n",
       "      <td>45</td>\n",
       "      <td>38.982878</td>\n",
       "      <td>2</td>\n",
       "      <td>Capomulin</td>\n",
       "      <td>Female</td>\n",
       "      <td>9</td>\n",
       "      <td>22</td>\n",
       "    </tr>\n",
       "  </tbody>\n",
       "</table>\n",
       "</div>"
      ],
      "text/plain": [
       "  Mouse ID  Timepoint  Tumor Volume (mm3)  Metastatic Sites Drug Regimen  \\\n",
       "0     b128          0           45.000000                 0    Capomulin   \n",
       "1     b128          5           45.651331                 0    Capomulin   \n",
       "2     b128         10           43.270852                 0    Capomulin   \n",
       "3     b128         15           43.784893                 0    Capomulin   \n",
       "4     b128         20           42.731552                 0    Capomulin   \n",
       "5     b128         25           43.262145                 1    Capomulin   \n",
       "6     b128         30           40.605335                 1    Capomulin   \n",
       "7     b128         35           37.967644                 1    Capomulin   \n",
       "8     b128         40           38.379726                 2    Capomulin   \n",
       "9     b128         45           38.982878                 2    Capomulin   \n",
       "\n",
       "      Sex  Age_months  Weight (g)  \n",
       "0  Female           9          22  \n",
       "1  Female           9          22  \n",
       "2  Female           9          22  \n",
       "3  Female           9          22  \n",
       "4  Female           9          22  \n",
       "5  Female           9          22  \n",
       "6  Female           9          22  \n",
       "7  Female           9          22  \n",
       "8  Female           9          22  \n",
       "9  Female           9          22  "
      ]
     },
     "execution_count": 4,
     "metadata": {},
     "output_type": "execute_result"
    }
   ],
   "source": [
    "# create a clean df by dropping the duplicate mouse by its Mouse ID\n",
    "# use .isin to take away the duplicated values in the main data frame that were identified in the duplicated_df\n",
    "#.isin makes sure the values must match thus if you make it == False,it will remove the duplicates\n",
    "# documentation: https://stackoverflow.com/questions/14057007/remove-rows-not-isinx/33642919\n",
    "cleaned_mouse_data = mouse_data[mouse_data['Mouse ID'].isin(duplicate_df) == False]\n",
    "cleaned_mouse_data.head(10)\n"
   ]
  },
  {
   "cell_type": "code",
   "execution_count": 5,
   "metadata": {},
   "outputs": [
    {
     "data": {
      "text/plain": [
       "248"
      ]
     },
     "execution_count": 5,
     "metadata": {},
     "output_type": "execute_result"
    }
   ],
   "source": [
    "#check number of mice in new dataframe\n",
    "\n",
    "cleaned_count = len(cleaned_mouse_data['Mouse ID'].unique()) \n",
    "cleaned_count"
   ]
  },
  {
   "cell_type": "markdown",
   "metadata": {},
   "source": [
    "Summary Statistics"
   ]
  },
  {
   "cell_type": "code",
   "execution_count": 6,
   "metadata": {},
   "outputs": [
    {
     "data": {
      "text/plain": [
       "array(['Capomulin', 'Ketapril', 'Naftisol', 'Infubinol', 'Stelasyn',\n",
       "       'Ramicane', 'Zoniferol', 'Propriva', 'Placebo', 'Ceftamin'],\n",
       "      dtype=object)"
      ]
     },
     "execution_count": 6,
     "metadata": {},
     "output_type": "execute_result"
    }
   ],
   "source": [
    "#list of all regimens\n",
    "drug_regimens = cleaned_mouse_data['Drug Regimen'].unique()  \n",
    "drug_regimens"
   ]
  },
  {
   "cell_type": "code",
   "execution_count": 7,
   "metadata": {
    "scrolled": false
   },
   "outputs": [
    {
     "data": {
      "text/html": [
       "<div>\n",
       "<style scoped>\n",
       "    .dataframe tbody tr th:only-of-type {\n",
       "        vertical-align: middle;\n",
       "    }\n",
       "\n",
       "    .dataframe tbody tr th {\n",
       "        vertical-align: top;\n",
       "    }\n",
       "\n",
       "    .dataframe thead th {\n",
       "        text-align: right;\n",
       "    }\n",
       "</style>\n",
       "<table border=\"1\" class=\"dataframe\">\n",
       "  <thead>\n",
       "    <tr style=\"text-align: right;\">\n",
       "      <th></th>\n",
       "      <th>Tumor Mean</th>\n",
       "      <th>Tumor Median</th>\n",
       "      <th>Tumor Variance</th>\n",
       "      <th>Tumor Standard Deviation</th>\n",
       "      <th>SEM</th>\n",
       "    </tr>\n",
       "  </thead>\n",
       "  <tbody>\n",
       "    <tr>\n",
       "      <th>0</th>\n",
       "      <td>40.675741</td>\n",
       "      <td>41.557809</td>\n",
       "      <td>24.947764</td>\n",
       "      <td>4.994774</td>\n",
       "      <td>0.329346</td>\n",
       "    </tr>\n",
       "  </tbody>\n",
       "</table>\n",
       "</div>"
      ],
      "text/plain": [
       "   Tumor Mean  Tumor Median  Tumor Variance  Tumor Standard Deviation  \\\n",
       "0   40.675741     41.557809       24.947764                  4.994774   \n",
       "\n",
       "        SEM  \n",
       "0  0.329346  "
      ]
     },
     "execution_count": 7,
     "metadata": {},
     "output_type": "execute_result"
    }
   ],
   "source": [
    "#generate summary statistics of mean, median, variance, st. dev, and SEM for each regimen (medication)\n",
    "# create multiple series and put all together at end\n",
    "\n",
    "# statistics for Capomulin\n",
    "capo_stats = cleaned_mouse_data.loc[cleaned_mouse_data['Drug Regimen'] == 'Capomulin']   \n",
    "capo_mean = capo_stats.mean()['Tumor Volume (mm3)']\n",
    "capo_med = capo_stats.median()['Tumor Volume (mm3)']\n",
    "capo_var = capo_stats.var()['Tumor Volume (mm3)']\n",
    "capo_st_d = capo_stats.std()['Tumor Volume (mm3)']\n",
    "capo_sem = capo_stats.sem()['Tumor Volume (mm3)']\n",
    "\n",
    "capo_analysis = pd.DataFrame({\"Tumor Mean\": capo_mean, \"Tumor Median\": capo_med, \"Tumor Variance\":\n",
    "                             capo_var, \"Tumor Standard Deviation\": capo_st_d, \"SEM\": capo_sem}, index=[0])  \n",
    "capo_analysis\n"
   ]
  },
  {
   "cell_type": "code",
   "execution_count": 8,
   "metadata": {},
   "outputs": [
    {
     "data": {
      "text/html": [
       "<div>\n",
       "<style scoped>\n",
       "    .dataframe tbody tr th:only-of-type {\n",
       "        vertical-align: middle;\n",
       "    }\n",
       "\n",
       "    .dataframe tbody tr th {\n",
       "        vertical-align: top;\n",
       "    }\n",
       "\n",
       "    .dataframe thead th {\n",
       "        text-align: right;\n",
       "    }\n",
       "</style>\n",
       "<table border=\"1\" class=\"dataframe\">\n",
       "  <thead>\n",
       "    <tr style=\"text-align: right;\">\n",
       "      <th></th>\n",
       "      <th>Tumor Mean</th>\n",
       "      <th>Tumor Median</th>\n",
       "      <th>Tumor Variance</th>\n",
       "      <th>Tumor Standard Deviation</th>\n",
       "      <th>SEM</th>\n",
       "    </tr>\n",
       "  </thead>\n",
       "  <tbody>\n",
       "    <tr>\n",
       "      <th>0</th>\n",
       "      <td>55.235638</td>\n",
       "      <td>53.698743</td>\n",
       "      <td>68.553577</td>\n",
       "      <td>8.279709</td>\n",
       "      <td>0.60386</td>\n",
       "    </tr>\n",
       "  </tbody>\n",
       "</table>\n",
       "</div>"
      ],
      "text/plain": [
       "   Tumor Mean  Tumor Median  Tumor Variance  Tumor Standard Deviation      SEM\n",
       "0   55.235638     53.698743       68.553577                  8.279709  0.60386"
      ]
     },
     "execution_count": 8,
     "metadata": {},
     "output_type": "execute_result"
    }
   ],
   "source": [
    "#Ketapril analysis\n",
    "\n",
    "# statistics for Ketapril\n",
    "keta_stats = cleaned_mouse_data.loc[cleaned_mouse_data['Drug Regimen'] == 'Ketapril']   \n",
    "keta_mean = keta_stats.mean()['Tumor Volume (mm3)']\n",
    "keta_med = keta_stats.median()['Tumor Volume (mm3)']\n",
    "keta_var = keta_stats.var()['Tumor Volume (mm3)']\n",
    "keta_st_d = keta_stats.std()['Tumor Volume (mm3)']\n",
    "keta_sem = keta_stats.sem()['Tumor Volume (mm3)']\n",
    "\n",
    "keta_analysis = pd.DataFrame({\"Tumor Mean\": keta_mean, \"Tumor Median\": keta_med, \"Tumor Variance\":\n",
    "                             keta_var, \"Tumor Standard Deviation\": keta_st_d, \"SEM\": keta_sem}, index=[0])  \n",
    "keta_analysis\n"
   ]
  },
  {
   "cell_type": "code",
   "execution_count": 9,
   "metadata": {},
   "outputs": [
    {
     "data": {
      "text/html": [
       "<div>\n",
       "<style scoped>\n",
       "    .dataframe tbody tr th:only-of-type {\n",
       "        vertical-align: middle;\n",
       "    }\n",
       "\n",
       "    .dataframe tbody tr th {\n",
       "        vertical-align: top;\n",
       "    }\n",
       "\n",
       "    .dataframe thead th {\n",
       "        text-align: right;\n",
       "    }\n",
       "</style>\n",
       "<table border=\"1\" class=\"dataframe\">\n",
       "  <thead>\n",
       "    <tr style=\"text-align: right;\">\n",
       "      <th></th>\n",
       "      <th>Tumor Mean</th>\n",
       "      <th>Tumor Median</th>\n",
       "      <th>Tumor Variance</th>\n",
       "      <th>Tumor Standard Deviation</th>\n",
       "      <th>SEM</th>\n",
       "    </tr>\n",
       "  </thead>\n",
       "  <tbody>\n",
       "    <tr>\n",
       "      <th>0</th>\n",
       "      <td>54.331565</td>\n",
       "      <td>52.509285</td>\n",
       "      <td>66.173479</td>\n",
       "      <td>8.134708</td>\n",
       "      <td>0.596466</td>\n",
       "    </tr>\n",
       "  </tbody>\n",
       "</table>\n",
       "</div>"
      ],
      "text/plain": [
       "   Tumor Mean  Tumor Median  Tumor Variance  Tumor Standard Deviation  \\\n",
       "0   54.331565     52.509285       66.173479                  8.134708   \n",
       "\n",
       "        SEM  \n",
       "0  0.596466  "
      ]
     },
     "execution_count": 9,
     "metadata": {},
     "output_type": "execute_result"
    }
   ],
   "source": [
    "#Naftisol analysis \n",
    "# statistics for Naftisol\n",
    "naft_stats = cleaned_mouse_data.loc[cleaned_mouse_data['Drug Regimen'] == 'Naftisol']   \n",
    "naft_mean = naft_stats.mean()['Tumor Volume (mm3)']\n",
    "naft_med = naft_stats.median()['Tumor Volume (mm3)']\n",
    "naft_var = naft_stats.var()['Tumor Volume (mm3)']\n",
    "naft_st_d = naft_stats.std()['Tumor Volume (mm3)']\n",
    "naft_sem = naft_stats.sem()['Tumor Volume (mm3)']\n",
    "\n",
    "naft_analysis = pd.DataFrame({\"Tumor Mean\": naft_mean, \"Tumor Median\": naft_med, \"Tumor Variance\":\n",
    "                             naft_var, \"Tumor Standard Deviation\": naft_st_d, \"SEM\": naft_sem}, index=[0])  \n",
    "naft_analysis"
   ]
  },
  {
   "cell_type": "code",
   "execution_count": 10,
   "metadata": {},
   "outputs": [
    {
     "data": {
      "text/html": [
       "<div>\n",
       "<style scoped>\n",
       "    .dataframe tbody tr th:only-of-type {\n",
       "        vertical-align: middle;\n",
       "    }\n",
       "\n",
       "    .dataframe tbody tr th {\n",
       "        vertical-align: top;\n",
       "    }\n",
       "\n",
       "    .dataframe thead th {\n",
       "        text-align: right;\n",
       "    }\n",
       "</style>\n",
       "<table border=\"1\" class=\"dataframe\">\n",
       "  <thead>\n",
       "    <tr style=\"text-align: right;\">\n",
       "      <th></th>\n",
       "      <th>Tumor Mean</th>\n",
       "      <th>Tumor Median</th>\n",
       "      <th>Tumor Variance</th>\n",
       "      <th>Tumor Standard Deviation</th>\n",
       "      <th>SEM</th>\n",
       "    </tr>\n",
       "  </thead>\n",
       "  <tbody>\n",
       "    <tr>\n",
       "      <th>0</th>\n",
       "      <td>52.884795</td>\n",
       "      <td>51.820584</td>\n",
       "      <td>43.128684</td>\n",
       "      <td>6.567243</td>\n",
       "      <td>0.492236</td>\n",
       "    </tr>\n",
       "  </tbody>\n",
       "</table>\n",
       "</div>"
      ],
      "text/plain": [
       "   Tumor Mean  Tumor Median  Tumor Variance  Tumor Standard Deviation  \\\n",
       "0   52.884795     51.820584       43.128684                  6.567243   \n",
       "\n",
       "        SEM  \n",
       "0  0.492236  "
      ]
     },
     "execution_count": 10,
     "metadata": {},
     "output_type": "execute_result"
    }
   ],
   "source": [
    "#Infubinol analysis\n",
    "\n",
    "# statistics for Infubinol\n",
    "inf_stats = cleaned_mouse_data.loc[cleaned_mouse_data['Drug Regimen'] == 'Infubinol']   \n",
    "inf_mean = inf_stats.mean()['Tumor Volume (mm3)']\n",
    "inf_med = inf_stats.median()['Tumor Volume (mm3)']\n",
    "inf_var = inf_stats.var()['Tumor Volume (mm3)']\n",
    "inf_st_d = inf_stats.std()['Tumor Volume (mm3)']\n",
    "inf_sem = inf_stats.sem()['Tumor Volume (mm3)']\n",
    "\n",
    "inf_analysis = pd.DataFrame({\"Tumor Mean\": inf_mean, \"Tumor Median\": inf_med, \"Tumor Variance\":\n",
    "                             inf_var, \"Tumor Standard Deviation\": inf_st_d, \"SEM\": inf_sem}, index=[0])  \n",
    "inf_analysis\n"
   ]
  },
  {
   "cell_type": "code",
   "execution_count": 11,
   "metadata": {},
   "outputs": [
    {
     "data": {
      "text/html": [
       "<div>\n",
       "<style scoped>\n",
       "    .dataframe tbody tr th:only-of-type {\n",
       "        vertical-align: middle;\n",
       "    }\n",
       "\n",
       "    .dataframe tbody tr th {\n",
       "        vertical-align: top;\n",
       "    }\n",
       "\n",
       "    .dataframe thead th {\n",
       "        text-align: right;\n",
       "    }\n",
       "</style>\n",
       "<table border=\"1\" class=\"dataframe\">\n",
       "  <thead>\n",
       "    <tr style=\"text-align: right;\">\n",
       "      <th></th>\n",
       "      <th>Tumor Mean</th>\n",
       "      <th>Tumor Median</th>\n",
       "      <th>Tumor Variance</th>\n",
       "      <th>Tumor Standard Deviation</th>\n",
       "      <th>SEM</th>\n",
       "    </tr>\n",
       "  </thead>\n",
       "  <tbody>\n",
       "    <tr>\n",
       "      <th>0</th>\n",
       "      <td>54.233149</td>\n",
       "      <td>52.431737</td>\n",
       "      <td>59.450562</td>\n",
       "      <td>7.710419</td>\n",
       "      <td>0.573111</td>\n",
       "    </tr>\n",
       "  </tbody>\n",
       "</table>\n",
       "</div>"
      ],
      "text/plain": [
       "   Tumor Mean  Tumor Median  Tumor Variance  Tumor Standard Deviation  \\\n",
       "0   54.233149     52.431737       59.450562                  7.710419   \n",
       "\n",
       "        SEM  \n",
       "0  0.573111  "
      ]
     },
     "execution_count": 11,
     "metadata": {},
     "output_type": "execute_result"
    }
   ],
   "source": [
    "#Stelasyn analysis\n",
    "# statistics for Stelasyn\n",
    "stel_stats = cleaned_mouse_data.loc[cleaned_mouse_data['Drug Regimen'] == 'Stelasyn']   \n",
    "stel_mean = stel_stats.mean()['Tumor Volume (mm3)']\n",
    "stel_med = stel_stats.median()['Tumor Volume (mm3)']\n",
    "stel_var = stel_stats.var()['Tumor Volume (mm3)']\n",
    "stel_st_d = stel_stats.std()['Tumor Volume (mm3)']\n",
    "stel_sem = stel_stats.sem()['Tumor Volume (mm3)']\n",
    "\n",
    "stel_analysis = pd.DataFrame({\"Tumor Mean\": stel_mean, \"Tumor Median\": stel_med, \"Tumor Variance\":\n",
    "                             stel_var, \"Tumor Standard Deviation\": stel_st_d, \"SEM\": stel_sem}, index=[0])  \n",
    "stel_analysis\n"
   ]
  },
  {
   "cell_type": "code",
   "execution_count": 12,
   "metadata": {},
   "outputs": [
    {
     "data": {
      "text/html": [
       "<div>\n",
       "<style scoped>\n",
       "    .dataframe tbody tr th:only-of-type {\n",
       "        vertical-align: middle;\n",
       "    }\n",
       "\n",
       "    .dataframe tbody tr th {\n",
       "        vertical-align: top;\n",
       "    }\n",
       "\n",
       "    .dataframe thead th {\n",
       "        text-align: right;\n",
       "    }\n",
       "</style>\n",
       "<table border=\"1\" class=\"dataframe\">\n",
       "  <thead>\n",
       "    <tr style=\"text-align: right;\">\n",
       "      <th></th>\n",
       "      <th>Tumor Mean</th>\n",
       "      <th>Tumor Median</th>\n",
       "      <th>Tumor Variance</th>\n",
       "      <th>Tumor Standard Deviation</th>\n",
       "      <th>SEM</th>\n",
       "    </tr>\n",
       "  </thead>\n",
       "  <tbody>\n",
       "    <tr>\n",
       "      <th>0</th>\n",
       "      <td>40.216745</td>\n",
       "      <td>40.673236</td>\n",
       "      <td>23.486704</td>\n",
       "      <td>4.846308</td>\n",
       "      <td>0.320955</td>\n",
       "    </tr>\n",
       "  </tbody>\n",
       "</table>\n",
       "</div>"
      ],
      "text/plain": [
       "   Tumor Mean  Tumor Median  Tumor Variance  Tumor Standard Deviation  \\\n",
       "0   40.216745     40.673236       23.486704                  4.846308   \n",
       "\n",
       "        SEM  \n",
       "0  0.320955  "
      ]
     },
     "execution_count": 12,
     "metadata": {},
     "output_type": "execute_result"
    }
   ],
   "source": [
    "#Ramicane\n",
    "\n",
    "# statistics for Ramicane\n",
    "ram_stats = cleaned_mouse_data.loc[cleaned_mouse_data['Drug Regimen'] == 'Ramicane']   \n",
    "ram_mean = ram_stats.mean()['Tumor Volume (mm3)']\n",
    "ram_med = ram_stats.median()['Tumor Volume (mm3)']\n",
    "ram_var = ram_stats.var()['Tumor Volume (mm3)']\n",
    "ram_st_d = ram_stats.std()['Tumor Volume (mm3)']\n",
    "ram_sem = ram_stats.sem()['Tumor Volume (mm3)']\n",
    "\n",
    "ram_analysis = pd.DataFrame({\"Tumor Mean\": ram_mean, \"Tumor Median\": ram_med, \"Tumor Variance\":\n",
    "                             ram_var, \"Tumor Standard Deviation\": ram_st_d, \"SEM\": ram_sem}, index=[0])  \n",
    "ram_analysis\n"
   ]
  },
  {
   "cell_type": "code",
   "execution_count": 13,
   "metadata": {},
   "outputs": [
    {
     "data": {
      "text/html": [
       "<div>\n",
       "<style scoped>\n",
       "    .dataframe tbody tr th:only-of-type {\n",
       "        vertical-align: middle;\n",
       "    }\n",
       "\n",
       "    .dataframe tbody tr th {\n",
       "        vertical-align: top;\n",
       "    }\n",
       "\n",
       "    .dataframe thead th {\n",
       "        text-align: right;\n",
       "    }\n",
       "</style>\n",
       "<table border=\"1\" class=\"dataframe\">\n",
       "  <thead>\n",
       "    <tr style=\"text-align: right;\">\n",
       "      <th></th>\n",
       "      <th>Tumor Mean</th>\n",
       "      <th>Tumor Median</th>\n",
       "      <th>Tumor Variance</th>\n",
       "      <th>Tumor Standard Deviation</th>\n",
       "      <th>SEM</th>\n",
       "    </tr>\n",
       "  </thead>\n",
       "  <tbody>\n",
       "    <tr>\n",
       "      <th>0</th>\n",
       "      <td>40.675741</td>\n",
       "      <td>41.557809</td>\n",
       "      <td>24.947764</td>\n",
       "      <td>4.994774</td>\n",
       "      <td>0.329346</td>\n",
       "    </tr>\n",
       "  </tbody>\n",
       "</table>\n",
       "</div>"
      ],
      "text/plain": [
       "   Tumor Mean  Tumor Median  Tumor Variance  Tumor Standard Deviation  \\\n",
       "0   40.675741     41.557809       24.947764                  4.994774   \n",
       "\n",
       "        SEM  \n",
       "0  0.329346  "
      ]
     },
     "execution_count": 13,
     "metadata": {},
     "output_type": "execute_result"
    }
   ],
   "source": [
    "#Zoniferol\n",
    "\n",
    "# statistics for Zoniferol\n",
    "zoni_stats = cleaned_mouse_data.loc[cleaned_mouse_data['Drug Regimen'] == 'Capomulin']   \n",
    "zoni_mean = zoni_stats.mean()['Tumor Volume (mm3)']\n",
    "zoni_med = zoni_stats.median()['Tumor Volume (mm3)']\n",
    "zoni_var = zoni_stats.var()['Tumor Volume (mm3)']\n",
    "zoni_st_d = zoni_stats.std()['Tumor Volume (mm3)']\n",
    "zoni_sem = zoni_stats.sem()['Tumor Volume (mm3)']\n",
    "\n",
    "zoni_analysis = pd.DataFrame({\"Tumor Mean\": zoni_mean, \"Tumor Median\": zoni_med, \"Tumor Variance\":\n",
    "                             zoni_var, \"Tumor Standard Deviation\": zoni_st_d, \"SEM\": zoni_sem}, index=[0])  \n",
    "zoni_analysis\n"
   ]
  },
  {
   "cell_type": "code",
   "execution_count": 14,
   "metadata": {},
   "outputs": [
    {
     "data": {
      "text/html": [
       "<div>\n",
       "<style scoped>\n",
       "    .dataframe tbody tr th:only-of-type {\n",
       "        vertical-align: middle;\n",
       "    }\n",
       "\n",
       "    .dataframe tbody tr th {\n",
       "        vertical-align: top;\n",
       "    }\n",
       "\n",
       "    .dataframe thead th {\n",
       "        text-align: right;\n",
       "    }\n",
       "</style>\n",
       "<table border=\"1\" class=\"dataframe\">\n",
       "  <thead>\n",
       "    <tr style=\"text-align: right;\">\n",
       "      <th></th>\n",
       "      <th>Tumor Mean</th>\n",
       "      <th>Tumor Median</th>\n",
       "      <th>Tumor Variance</th>\n",
       "      <th>Tumor Standard Deviation</th>\n",
       "      <th>SEM</th>\n",
       "    </tr>\n",
       "  </thead>\n",
       "  <tbody>\n",
       "    <tr>\n",
       "      <th>0</th>\n",
       "      <td>52.32093</td>\n",
       "      <td>50.446266</td>\n",
       "      <td>43.852013</td>\n",
       "      <td>6.622085</td>\n",
       "      <td>0.544332</td>\n",
       "    </tr>\n",
       "  </tbody>\n",
       "</table>\n",
       "</div>"
      ],
      "text/plain": [
       "   Tumor Mean  Tumor Median  Tumor Variance  Tumor Standard Deviation  \\\n",
       "0    52.32093     50.446266       43.852013                  6.622085   \n",
       "\n",
       "        SEM  \n",
       "0  0.544332  "
      ]
     },
     "execution_count": 14,
     "metadata": {},
     "output_type": "execute_result"
    }
   ],
   "source": [
    "#Propriva\n",
    "\n",
    "# statistics for Propriva\n",
    "prop_stats = cleaned_mouse_data.loc[cleaned_mouse_data['Drug Regimen'] == 'Propriva']   \n",
    "prop_mean = prop_stats.mean()['Tumor Volume (mm3)']\n",
    "prop_med = prop_stats.median()['Tumor Volume (mm3)']\n",
    "prop_var = prop_stats.var()['Tumor Volume (mm3)']\n",
    "prop_st_d = prop_stats.std()['Tumor Volume (mm3)']\n",
    "prop_sem = prop_stats.sem()['Tumor Volume (mm3)']\n",
    "\n",
    "prop_analysis = pd.DataFrame({\"Tumor Mean\": prop_mean, \"Tumor Median\": prop_med, \"Tumor Variance\":\n",
    "                             prop_var, \"Tumor Standard Deviation\": prop_st_d, \"SEM\": prop_sem}, index=[0])  \n",
    "prop_analysis\n"
   ]
  },
  {
   "cell_type": "code",
   "execution_count": 15,
   "metadata": {},
   "outputs": [
    {
     "data": {
      "text/html": [
       "<div>\n",
       "<style scoped>\n",
       "    .dataframe tbody tr th:only-of-type {\n",
       "        vertical-align: middle;\n",
       "    }\n",
       "\n",
       "    .dataframe tbody tr th {\n",
       "        vertical-align: top;\n",
       "    }\n",
       "\n",
       "    .dataframe thead th {\n",
       "        text-align: right;\n",
       "    }\n",
       "</style>\n",
       "<table border=\"1\" class=\"dataframe\">\n",
       "  <thead>\n",
       "    <tr style=\"text-align: right;\">\n",
       "      <th></th>\n",
       "      <th>Tumor Mean</th>\n",
       "      <th>Tumor Median</th>\n",
       "      <th>Tumor Variance</th>\n",
       "      <th>Tumor Standard Deviation</th>\n",
       "      <th>SEM</th>\n",
       "    </tr>\n",
       "  </thead>\n",
       "  <tbody>\n",
       "    <tr>\n",
       "      <th>0</th>\n",
       "      <td>54.033581</td>\n",
       "      <td>52.288934</td>\n",
       "      <td>61.168083</td>\n",
       "      <td>7.821003</td>\n",
       "      <td>0.581331</td>\n",
       "    </tr>\n",
       "  </tbody>\n",
       "</table>\n",
       "</div>"
      ],
      "text/plain": [
       "   Tumor Mean  Tumor Median  Tumor Variance  Tumor Standard Deviation  \\\n",
       "0   54.033581     52.288934       61.168083                  7.821003   \n",
       "\n",
       "        SEM  \n",
       "0  0.581331  "
      ]
     },
     "execution_count": 15,
     "metadata": {},
     "output_type": "execute_result"
    }
   ],
   "source": [
    "#Placebo\n",
    "\n",
    "# statistics for placebo\n",
    "placebo_stats = cleaned_mouse_data.loc[cleaned_mouse_data['Drug Regimen'] == 'Placebo']   \n",
    "placebo_mean = placebo_stats.mean()['Tumor Volume (mm3)']\n",
    "placebo_med = placebo_stats.median()['Tumor Volume (mm3)']\n",
    "placebo_var = placebo_stats.var()['Tumor Volume (mm3)']\n",
    "placebo_st_d = placebo_stats.std()['Tumor Volume (mm3)']\n",
    "placebo_sem = placebo_stats.sem()['Tumor Volume (mm3)']\n",
    "\n",
    "placebo_analysis = pd.DataFrame({\"Tumor Mean\": placebo_mean, \"Tumor Median\": placebo_med, \"Tumor Variance\":\n",
    "                             placebo_var, \"Tumor Standard Deviation\": placebo_st_d, \"SEM\": placebo_sem}, index=[0])  \n",
    "placebo_analysis\n"
   ]
  },
  {
   "cell_type": "code",
   "execution_count": 16,
   "metadata": {},
   "outputs": [
    {
     "data": {
      "text/html": [
       "<div>\n",
       "<style scoped>\n",
       "    .dataframe tbody tr th:only-of-type {\n",
       "        vertical-align: middle;\n",
       "    }\n",
       "\n",
       "    .dataframe tbody tr th {\n",
       "        vertical-align: top;\n",
       "    }\n",
       "\n",
       "    .dataframe thead th {\n",
       "        text-align: right;\n",
       "    }\n",
       "</style>\n",
       "<table border=\"1\" class=\"dataframe\">\n",
       "  <thead>\n",
       "    <tr style=\"text-align: right;\">\n",
       "      <th></th>\n",
       "      <th>Tumor Mean</th>\n",
       "      <th>Tumor Median</th>\n",
       "      <th>Tumor Variance</th>\n",
       "      <th>Tumor Standard Deviation</th>\n",
       "      <th>SEM</th>\n",
       "    </tr>\n",
       "  </thead>\n",
       "  <tbody>\n",
       "    <tr>\n",
       "      <th>0</th>\n",
       "      <td>52.591172</td>\n",
       "      <td>51.776157</td>\n",
       "      <td>39.290177</td>\n",
       "      <td>6.268188</td>\n",
       "      <td>0.469821</td>\n",
       "    </tr>\n",
       "  </tbody>\n",
       "</table>\n",
       "</div>"
      ],
      "text/plain": [
       "   Tumor Mean  Tumor Median  Tumor Variance  Tumor Standard Deviation  \\\n",
       "0   52.591172     51.776157       39.290177                  6.268188   \n",
       "\n",
       "        SEM  \n",
       "0  0.469821  "
      ]
     },
     "execution_count": 16,
     "metadata": {},
     "output_type": "execute_result"
    }
   ],
   "source": [
    "#Ceftamin\n",
    "\n",
    "# statistics for Ceftamin\n",
    "ceft_stats = cleaned_mouse_data.loc[cleaned_mouse_data['Drug Regimen'] == 'Ceftamin']   \n",
    "ceft_mean = ceft_stats.mean()['Tumor Volume (mm3)']\n",
    "ceft_med = ceft_stats.median()['Tumor Volume (mm3)']\n",
    "ceft_var = ceft_stats.var()['Tumor Volume (mm3)']\n",
    "ceft_st_d = ceft_stats.std()['Tumor Volume (mm3)']\n",
    "ceft_sem = ceft_stats.sem()['Tumor Volume (mm3)']\n",
    "\n",
    "ceft_analysis = pd.DataFrame({\"Tumor Mean\": ceft_mean, \"Tumor Median\": ceft_med, \"Tumor Variance\":\n",
    "                             ceft_var, \"Tumor Standard Deviation\": ceft_st_d, \"SEM\": ceft_sem}, index=[0])  \n",
    "ceft_analysis\n"
   ]
  },
  {
   "cell_type": "code",
   "execution_count": 17,
   "metadata": {},
   "outputs": [
    {
     "data": {
      "text/html": [
       "<div>\n",
       "<style scoped>\n",
       "    .dataframe tbody tr th:only-of-type {\n",
       "        vertical-align: middle;\n",
       "    }\n",
       "\n",
       "    .dataframe tbody tr th {\n",
       "        vertical-align: top;\n",
       "    }\n",
       "\n",
       "    .dataframe thead th {\n",
       "        text-align: right;\n",
       "    }\n",
       "</style>\n",
       "<table border=\"1\" class=\"dataframe\">\n",
       "  <thead>\n",
       "    <tr style=\"text-align: right;\">\n",
       "      <th></th>\n",
       "      <th>Tumor Mean</th>\n",
       "      <th>Tumor Median</th>\n",
       "      <th>Tumor Variance</th>\n",
       "      <th>Tumor Standard Deviation</th>\n",
       "      <th>SEM</th>\n",
       "    </tr>\n",
       "    <tr>\n",
       "      <th>Drug Regimen</th>\n",
       "      <th></th>\n",
       "      <th></th>\n",
       "      <th></th>\n",
       "      <th></th>\n",
       "      <th></th>\n",
       "    </tr>\n",
       "  </thead>\n",
       "  <tbody>\n",
       "    <tr>\n",
       "      <th>Capomulin</th>\n",
       "      <td>40.675741</td>\n",
       "      <td>41.557809</td>\n",
       "      <td>24.947764</td>\n",
       "      <td>4.994774</td>\n",
       "      <td>0.329346</td>\n",
       "    </tr>\n",
       "    <tr>\n",
       "      <th>Ceftamin</th>\n",
       "      <td>52.591172</td>\n",
       "      <td>51.776157</td>\n",
       "      <td>39.290177</td>\n",
       "      <td>6.268188</td>\n",
       "      <td>0.469821</td>\n",
       "    </tr>\n",
       "    <tr>\n",
       "      <th>Infubinol</th>\n",
       "      <td>52.884795</td>\n",
       "      <td>51.820584</td>\n",
       "      <td>43.128684</td>\n",
       "      <td>6.567243</td>\n",
       "      <td>0.492236</td>\n",
       "    </tr>\n",
       "    <tr>\n",
       "      <th>Ketapril</th>\n",
       "      <td>55.235638</td>\n",
       "      <td>53.698743</td>\n",
       "      <td>68.553577</td>\n",
       "      <td>8.279709</td>\n",
       "      <td>0.603860</td>\n",
       "    </tr>\n",
       "    <tr>\n",
       "      <th>Naftisol</th>\n",
       "      <td>54.331565</td>\n",
       "      <td>52.509285</td>\n",
       "      <td>66.173479</td>\n",
       "      <td>8.134708</td>\n",
       "      <td>0.596466</td>\n",
       "    </tr>\n",
       "    <tr>\n",
       "      <th>Placebo</th>\n",
       "      <td>54.033581</td>\n",
       "      <td>52.288934</td>\n",
       "      <td>61.168083</td>\n",
       "      <td>7.821003</td>\n",
       "      <td>0.581331</td>\n",
       "    </tr>\n",
       "    <tr>\n",
       "      <th>Propriva</th>\n",
       "      <td>52.320930</td>\n",
       "      <td>50.446266</td>\n",
       "      <td>43.852013</td>\n",
       "      <td>6.622085</td>\n",
       "      <td>0.544332</td>\n",
       "    </tr>\n",
       "    <tr>\n",
       "      <th>Ramicane</th>\n",
       "      <td>40.216745</td>\n",
       "      <td>40.673236</td>\n",
       "      <td>23.486704</td>\n",
       "      <td>4.846308</td>\n",
       "      <td>0.320955</td>\n",
       "    </tr>\n",
       "    <tr>\n",
       "      <th>Stelasyn</th>\n",
       "      <td>54.233149</td>\n",
       "      <td>52.431737</td>\n",
       "      <td>59.450562</td>\n",
       "      <td>7.710419</td>\n",
       "      <td>0.573111</td>\n",
       "    </tr>\n",
       "    <tr>\n",
       "      <th>Zoniferol</th>\n",
       "      <td>53.236507</td>\n",
       "      <td>51.818479</td>\n",
       "      <td>48.533355</td>\n",
       "      <td>6.966589</td>\n",
       "      <td>0.516398</td>\n",
       "    </tr>\n",
       "  </tbody>\n",
       "</table>\n",
       "</div>"
      ],
      "text/plain": [
       "              Tumor Mean  Tumor Median  Tumor Variance  \\\n",
       "Drug Regimen                                             \n",
       "Capomulin      40.675741     41.557809       24.947764   \n",
       "Ceftamin       52.591172     51.776157       39.290177   \n",
       "Infubinol      52.884795     51.820584       43.128684   \n",
       "Ketapril       55.235638     53.698743       68.553577   \n",
       "Naftisol       54.331565     52.509285       66.173479   \n",
       "Placebo        54.033581     52.288934       61.168083   \n",
       "Propriva       52.320930     50.446266       43.852013   \n",
       "Ramicane       40.216745     40.673236       23.486704   \n",
       "Stelasyn       54.233149     52.431737       59.450562   \n",
       "Zoniferol      53.236507     51.818479       48.533355   \n",
       "\n",
       "              Tumor Standard Deviation       SEM  \n",
       "Drug Regimen                                      \n",
       "Capomulin                     4.994774  0.329346  \n",
       "Ceftamin                      6.268188  0.469821  \n",
       "Infubinol                     6.567243  0.492236  \n",
       "Ketapril                      8.279709  0.603860  \n",
       "Naftisol                      8.134708  0.596466  \n",
       "Placebo                       7.821003  0.581331  \n",
       "Propriva                      6.622085  0.544332  \n",
       "Ramicane                      4.846308  0.320955  \n",
       "Stelasyn                      7.710419  0.573111  \n",
       "Zoniferol                     6.966589  0.516398  "
      ]
     },
     "execution_count": 17,
     "metadata": {},
     "output_type": "execute_result"
    }
   ],
   "source": [
    "#create a summary statistics table of all regimens in a groupby function using Regimen\n",
    "#will only need the mouse ID regimen and tumor volume\n",
    "regimen_stat_df = cleaned_mouse_data.loc[:,['Mouse ID', 'Drug Regimen', 'Tumor Volume (mm3)']] \n",
    "regimen_stat_df\n",
    "\n",
    "#DON'T FORGET TO PUT THE SPACE BETWEEN VOLUMEN AND (MM3)!!\n",
    "regimen_mean = regimen_stat_df.groupby(['Drug Regimen']).mean()['Tumor Volume (mm3)'] \n",
    "regimen_med = regimen_stat_df.groupby(['Drug Regimen']).median()['Tumor Volume (mm3)'] \n",
    "regimen_var = regimen_stat_df.groupby(['Drug Regimen']).var()['Tumor Volume (mm3)']\n",
    "regimen_st_d = regimen_stat_df.groupby(['Drug Regimen']).std()['Tumor Volume (mm3)']\n",
    "regimen_sem = regimen_stat_df.groupby(['Drug Regimen']).sem()['Tumor Volume (mm3)']\n",
    "\n",
    "#regimen_med\n",
    "# #put all the info into new data frame\n",
    "\n",
    "#no need to add index=[0] at the end of the dictionary list because it is already being grouped by Drug Regimen\n",
    "group_regimen_df = pd.DataFrame({\"Tumor Mean\": regimen_mean, \"Tumor Median\": regimen_med, \"Tumor Variance\":\n",
    "                                regimen_var, \"Tumor Standard Deviation\": regimen_st_d, \"SEM\": regimen_sem})   \n",
    "group_regimen_df\n"
   ]
  },
  {
   "cell_type": "markdown",
   "metadata": {},
   "source": [
    "Bar and Pie Charts"
   ]
  },
  {
   "cell_type": "code",
   "execution_count": 136,
   "metadata": {
    "scrolled": true
   },
   "outputs": [
    {
     "data": {
      "text/plain": [
       "<matplotlib.legend.Legend at 0x16d0bca6d48>"
      ]
     },
     "execution_count": 136,
     "metadata": {},
     "output_type": "execute_result"
    },
    {
     "data": {
      "image/png": "[encoded data removed]",
      "text/plain": [
       "<Figure size 432x288 with 1 Axes>"
      ]
     },
     "metadata": {
      "needs_background": "light"
     },
     "output_type": "display_data"
    }
   ],
   "source": [
    "# Generate a bar plot showing the total number OF MICE for each treatment throughout \n",
    "# the course of the study using pandas. \n",
    "#do NOT make a bar chart for each regimen \n",
    "\n",
    "#x-axis\n",
    "# bar_x_axis = np.arange(len(cleaned_mouse_data['Drug Regimen'].unique())) doesn't work need the values names\n",
    "bar_locate = cleaned_mouse_data.loc[:, ['Mouse ID', 'Drug Regimen']] \n",
    "bar_locate\n",
    "\n",
    "#use .nunique in the same way you found the summary table values above each mouse is unique so put ['Mouse ID'] at the end\n",
    "bar_count = bar_locate.groupby(['Drug Regimen']).nunique()['Mouse ID'] \n",
    "\n",
    "# bar_x_values = bar_count.index\n",
    "# bar_y_values = bar_count.values\n",
    "\n",
    "#put into a new data frame\n",
    "bar_pd_df = pd.DataFrame(bar_count) \n",
    "\n",
    "bar_pd_chart = bar_pd_df.plot.bar(rot=90, title='Total Number of Mice Per Treatment') \n",
    "bar_pd_chart.set_xlabel(\"Drug Regimen\")\n",
    "bar_pd_chart.set_ylabel(\"Number of Mice\")\n",
    "bar_pd_chart.legend([])   \n",
    "\n",
    "\n",
    "\n"
   ]
  },
  {
   "cell_type": "code",
   "execution_count": 150,
   "metadata": {},
   "outputs": [
    {
     "data": {
      "text/plain": [
       "Text(0.5, 0, 'Drug Regimen')"
      ]
     },
     "execution_count": 150,
     "metadata": {},
     "output_type": "execute_result"
    },
    {
     "data": {
      "image/png": "[encoded data removed]",
      "text/plain": [
       "<Figure size 432x288 with 1 Axes>"
      ]
     },
     "metadata": {
      "needs_background": "light"
     },
     "output_type": "display_data"
    }
   ],
   "source": [
    "#make a bar chart of number of mice in each treatment using matplotlib\n",
    "\n",
    "bar_plt_count = bar_count \n",
    "\n",
    "# took the x and y axis from above that were not used\n",
    "bar_x_axis = bar_plt_count.index \n",
    "bar_y_axis = bar_plt_count.values\n",
    "bar_x_ticks = [value for value in bar_x_axis] \n",
    "# plt.xticks(bar_x_ticks, bar_plt_count)  \n",
    "#plot the bar graph\n",
    "plt.bar(bar_x_axis, bar_y_axis, color='r')\n",
    "plt.xticks(bar_x_ticks, list(bar_x_axis), rotation=90)\n",
    "\n",
    "#labels\n",
    "plt.title(\"Total Number of Mice Per Treatment\")\n",
    "plt.ylabel(\"Number of Mice\")\n",
    "plt.xlabel(\"Drug Regimen\") \n"
   ]
  },
  {
   "cell_type": "markdown",
   "metadata": {},
   "source": [
    "Pie Charts"
   ]
  },
  {
   "cell_type": "code",
   "execution_count": 236,
   "metadata": {},
   "outputs": [
    {
     "data": {
      "image/png": "[encoded data removed]",
      "text/plain": [
       "<Figure size 432x288 with 1 Axes>"
      ]
     },
     "metadata": {},
     "output_type": "display_data"
    }
   ],
   "source": [
    "#generate pie plot showing distribution of male vs female mice in pandas\n",
    "# gender_loc = cleaned_mouse_data.loc[:,['Mouse ID', 'Sex']]\n",
    "gender_group = cleaned_mouse_data.groupby(['Sex']).nunique()  \n",
    "gender_df = pd.DataFrame(gender_group)\n",
    "gender_count = gender_df[\"Mouse ID\"]\n",
    "\n",
    "pie_sex = gender_count.index\n",
    "pie_sex_number = gender_count.values\n",
    "\n",
    "colors = [\"red\", \"blue\"]\n",
    "\n",
    "gender_count.plot(kind='pie', colors=colors, autopct='%1.1f%%')       \n",
    "plt.title(\"Gender Distribution\")\n",
    "plt.ylabel(\"\")\n",
    "plt.show() "
   ]
  },
  {
   "cell_type": "code",
   "execution_count": 235,
   "metadata": {},
   "outputs": [
    {
     "data": {
      "image/png": "[encoded data removed]",
      "text/plain": [
       "<Figure size 432x288 with 1 Axes>"
      ]
     },
     "metadata": {},
     "output_type": "display_data"
    }
   ],
   "source": [
    "#pie plot using matplotlib\n",
    "\n",
    "plt_count = cleaned_mouse_data.loc[:,['Mouse ID', 'Sex']]\n",
    "plt_group = plt_count.groupby(['Sex']).nunique()['Mouse ID'] \n",
    "\n",
    "labels = plt_group.index\n",
    "sizes = plt_group.values\n",
    "\n",
    "# documentation: http://www.learningaboutelectronics.com/Articles/How-to-create-a-pie-chart-in-matplotlib-with-Python.php\n",
    "plt.pie(sizes, labels=labels, autopct='%1.1f%%')  \n",
    "\n",
    "plt.title(\"Gender Comparison\") \n",
    "plt.show() \n"
   ]
  },
  {
   "cell_type": "markdown",
   "metadata": {},
   "source": [
    "Quartiles, Outliers, and Boxplots"
   ]
  },
  {
   "cell_type": "code",
   "execution_count": 209,
   "metadata": {},
   "outputs": [
    {
     "data": {
      "text/html": [
       "<div>\n",
       "<style scoped>\n",
       "    .dataframe tbody tr th:only-of-type {\n",
       "        vertical-align: middle;\n",
       "    }\n",
       "\n",
       "    .dataframe tbody tr th {\n",
       "        vertical-align: top;\n",
       "    }\n",
       "\n",
       "    .dataframe thead th {\n",
       "        text-align: right;\n",
       "    }\n",
       "</style>\n",
       "<table border=\"1\" class=\"dataframe\">\n",
       "  <thead>\n",
       "    <tr style=\"text-align: right;\">\n",
       "      <th></th>\n",
       "      <th>Mouse ID</th>\n",
       "      <th>Timepoint</th>\n",
       "      <th>Tumor Volume (mm3)</th>\n",
       "      <th>Metastatic Sites</th>\n",
       "      <th>Drug Regimen</th>\n",
       "      <th>Sex</th>\n",
       "      <th>Age_months</th>\n",
       "      <th>Weight (g)</th>\n",
       "    </tr>\n",
       "  </thead>\n",
       "  <tbody>\n",
       "    <tr>\n",
       "      <th>0</th>\n",
       "      <td>a203</td>\n",
       "      <td>45</td>\n",
       "      <td>67.973419</td>\n",
       "      <td>2</td>\n",
       "      <td>Infubinol</td>\n",
       "      <td>Female</td>\n",
       "      <td>20</td>\n",
       "      <td>23</td>\n",
       "    </tr>\n",
       "    <tr>\n",
       "      <th>1</th>\n",
       "      <td>a251</td>\n",
       "      <td>45</td>\n",
       "      <td>65.525743</td>\n",
       "      <td>1</td>\n",
       "      <td>Infubinol</td>\n",
       "      <td>Female</td>\n",
       "      <td>21</td>\n",
       "      <td>25</td>\n",
       "    </tr>\n",
       "    <tr>\n",
       "      <th>2</th>\n",
       "      <td>a262</td>\n",
       "      <td>45</td>\n",
       "      <td>70.717621</td>\n",
       "      <td>4</td>\n",
       "      <td>Placebo</td>\n",
       "      <td>Female</td>\n",
       "      <td>17</td>\n",
       "      <td>29</td>\n",
       "    </tr>\n",
       "    <tr>\n",
       "      <th>3</th>\n",
       "      <td>a275</td>\n",
       "      <td>45</td>\n",
       "      <td>62.999356</td>\n",
       "      <td>3</td>\n",
       "      <td>Ceftamin</td>\n",
       "      <td>Female</td>\n",
       "      <td>20</td>\n",
       "      <td>28</td>\n",
       "    </tr>\n",
       "    <tr>\n",
       "      <th>4</th>\n",
       "      <td>a366</td>\n",
       "      <td>30</td>\n",
       "      <td>63.440686</td>\n",
       "      <td>1</td>\n",
       "      <td>Stelasyn</td>\n",
       "      <td>Female</td>\n",
       "      <td>16</td>\n",
       "      <td>29</td>\n",
       "    </tr>\n",
       "    <tr>\n",
       "      <th>...</th>\n",
       "      <td>...</td>\n",
       "      <td>...</td>\n",
       "      <td>...</td>\n",
       "      <td>...</td>\n",
       "      <td>...</td>\n",
       "      <td>...</td>\n",
       "      <td>...</td>\n",
       "      <td>...</td>\n",
       "    </tr>\n",
       "    <tr>\n",
       "      <th>243</th>\n",
       "      <td>z435</td>\n",
       "      <td>10</td>\n",
       "      <td>48.710661</td>\n",
       "      <td>0</td>\n",
       "      <td>Propriva</td>\n",
       "      <td>Female</td>\n",
       "      <td>12</td>\n",
       "      <td>26</td>\n",
       "    </tr>\n",
       "    <tr>\n",
       "      <th>244</th>\n",
       "      <td>z578</td>\n",
       "      <td>45</td>\n",
       "      <td>30.638696</td>\n",
       "      <td>0</td>\n",
       "      <td>Ramicane</td>\n",
       "      <td>Male</td>\n",
       "      <td>11</td>\n",
       "      <td>16</td>\n",
       "    </tr>\n",
       "    <tr>\n",
       "      <th>245</th>\n",
       "      <td>z581</td>\n",
       "      <td>45</td>\n",
       "      <td>62.754451</td>\n",
       "      <td>3</td>\n",
       "      <td>Infubinol</td>\n",
       "      <td>Female</td>\n",
       "      <td>24</td>\n",
       "      <td>25</td>\n",
       "    </tr>\n",
       "    <tr>\n",
       "      <th>246</th>\n",
       "      <td>z795</td>\n",
       "      <td>45</td>\n",
       "      <td>65.741070</td>\n",
       "      <td>3</td>\n",
       "      <td>Naftisol</td>\n",
       "      <td>Female</td>\n",
       "      <td>13</td>\n",
       "      <td>29</td>\n",
       "    </tr>\n",
       "    <tr>\n",
       "      <th>247</th>\n",
       "      <td>z969</td>\n",
       "      <td>45</td>\n",
       "      <td>73.867845</td>\n",
       "      <td>4</td>\n",
       "      <td>Naftisol</td>\n",
       "      <td>Male</td>\n",
       "      <td>9</td>\n",
       "      <td>30</td>\n",
       "    </tr>\n",
       "  </tbody>\n",
       "</table>\n",
       "<p>248 rows × 8 columns</p>\n",
       "</div>"
      ],
      "text/plain": [
       "    Mouse ID  Timepoint  Tumor Volume (mm3)  Metastatic Sites Drug Regimen  \\\n",
       "0       a203         45           67.973419                 2    Infubinol   \n",
       "1       a251         45           65.525743                 1    Infubinol   \n",
       "2       a262         45           70.717621                 4      Placebo   \n",
       "3       a275         45           62.999356                 3     Ceftamin   \n",
       "4       a366         30           63.440686                 1     Stelasyn   \n",
       "..       ...        ...                 ...               ...          ...   \n",
       "243     z435         10           48.710661                 0     Propriva   \n",
       "244     z578         45           30.638696                 0     Ramicane   \n",
       "245     z581         45           62.754451                 3    Infubinol   \n",
       "246     z795         45           65.741070                 3     Naftisol   \n",
       "247     z969         45           73.867845                 4     Naftisol   \n",
       "\n",
       "        Sex  Age_months  Weight (g)  \n",
       "0    Female          20          23  \n",
       "1    Female          21          25  \n",
       "2    Female          17          29  \n",
       "3    Female          20          28  \n",
       "4    Female          16          29  \n",
       "..      ...         ...         ...  \n",
       "243  Female          12          26  \n",
       "244    Male          11          16  \n",
       "245  Female          24          25  \n",
       "246  Female          13          29  \n",
       "247    Male           9          30  \n",
       "\n",
       "[248 rows x 8 columns]"
      ]
     },
     "execution_count": 209,
     "metadata": {},
     "output_type": "execute_result"
    }
   ],
   "source": [
    "# Calculate the final tumor volume of each mouse across four of the treatment regimens:  \n",
    "# Capomulin, Ramicane, Infubinol, and Ceftamin\n",
    "\n",
    "# Start by getting the last (greatest) timepoint for each mouse\n",
    "mouse_group = cleaned_mouse_data.groupby('Mouse ID').max()['Timepoint'] \n",
    "mouse_max_df = pd.DataFrame(mouse_group) \n",
    "mouse_max_df\n",
    "\n",
    "# Merge this group df with the original dataframe to get the tumor volume at the last timepoint\n",
    "merge_mouse_data = mouse_max_df.merge(cleaned_mouse_data, on=[\"Mouse ID\", \"Timepoint\"]) \n",
    "merge_mouse_data"
   ]
  },
  {
   "cell_type": "code",
   "execution_count": 230,
   "metadata": {},
   "outputs": [
    {
     "name": "stdout",
     "output_type": "stream",
     "text": [
      "Any tumor volume below 20.7 is deemed an outlier.\n",
      "Any tumor volume above 51.83 is deemed an outlier.\n"
     ]
    }
   ],
   "source": [
    "# Put treatments into a list for for loop (and later for plot labels)\n",
    "treatment_list = ['Capomulin', 'Ramicane', 'Infubinol', 'Ceftamin'] \n",
    "\n",
    "# Create empty list to fill with tumor vol data (for plotting)\n",
    "tumor_vol_list = []\n",
    "\n",
    "# the for loop was too difficult do them each indiviually in a variable\n",
    "# follow the same format you used for creating summary statistics BUT attach tumor volume to the variable\n",
    "capomulin = merge_mouse_data.loc[merge_mouse_data['Drug Regimen'] == 'Capomulin']['Tumor Volume (mm3)'] \n",
    "\n",
    "\n",
    "\n",
    "# Calculate the IQR and quantitatively determine if there are any potential outliers. \n",
    "#find quartiles \n",
    "#QUANTILE NOT QUANTILES\n",
    "quartile_capo = capomulin.quantile([.25,.5,.75])\n",
    "capo_lower = quartile_capo[0.25] \n",
    "capo_upper = quartile_capo[0.75] \n",
    "iqr_capo = capo_upper - capo_lower\n",
    "capo_low_out = capo_lower-(1.5*iqr_capo)\n",
    "capo_up_out = capo_upper+(1.5*iqr_capo) \n",
    "\n",
    "    \n",
    "    \n",
    "    # Determine outliers using upper and lower bounds\n",
    "print(f\"Any tumor volume below {round(capo_low_out,2)} is deemed an outlier.\")\n",
    "print(f\"Any tumor volume above {round(capo_up_out,2)} is deemed an outlier.\") "
   ]
  },
  {
   "cell_type": "code",
   "execution_count": 231,
   "metadata": {},
   "outputs": [
    {
     "name": "stdout",
     "output_type": "stream",
     "text": [
      "Any tumor volume below 17.91 is deemed an outlier.\n",
      "Any tumor volume above 54.31 is deemed an outlier.\n"
     ]
    }
   ],
   "source": [
    "#Ramicane\n",
    "\n",
    "ramicane = merge_mouse_data.loc[merge_mouse_data['Drug Regimen'] == 'Ramicane']['Tumor Volume (mm3)'] \n",
    "\n",
    "\n",
    "\n",
    "# Calculate the IQR and quantitatively determine if there are any potential outliers. \n",
    "#find quartiles \n",
    "#QUANTILE NOT QUANTILES\n",
    "quartile_rami = ramicane.quantile([.25,.5,.75])\n",
    "rami_lower = quartile_rami[0.25] \n",
    "rami_upper = quartile_rami[0.75] \n",
    "iqr_rami = rami_upper - rami_lower\n",
    "rami_low_out = rami_lower-(1.5*iqr_rami)\n",
    "rami_up_out = rami_upper+(1.5*iqr_rami)\n",
    "\n",
    "print(f\"Any tumor volume below {round(rami_low_out,2)} is deemed an outlier.\")\n",
    "print(f\"Any tumor volume above {round(rami_up_out,2)} is deemed an outlier.\") "
   ]
  },
  {
   "cell_type": "code",
   "execution_count": 232,
   "metadata": {},
   "outputs": [
    {
     "name": "stdout",
     "output_type": "stream",
     "text": [
      "Any tumor volume below 36.83 is deemed an outlier.\n",
      "Any tumor volume above 82.74 is deemed an outlier.\n"
     ]
    }
   ],
   "source": [
    "# Infubinol\n",
    "\n",
    "infubinol = merge_mouse_data.loc[merge_mouse_data['Drug Regimen'] == 'Infubinol']['Tumor Volume (mm3)'] \n",
    "\n",
    "\n",
    "\n",
    "# Calculate the IQR and quantitatively determine if there are any potential outliers. \n",
    "#find quartiles \n",
    "#QUANTILE NOT QUANTILES\n",
    "quartile_inf = infubinol.quantile([.25,.5,.75])\n",
    "inf_lower = quartile_inf[0.25] \n",
    "inf_upper = quartile_inf[0.75] \n",
    "iqr_inf = inf_upper - inf_lower\n",
    "inf_low_out = inf_lower-(1.5*iqr_inf)\n",
    "inf_up_out = inf_upper+(1.5*iqr_inf)\n",
    "\n",
    "print(f\"Any tumor volume below {round(inf_low_out,2)} is deemed an outlier.\")\n",
    "print(f\"Any tumor volume above {round(inf_up_out,2)} is deemed an outlier.\") "
   ]
  },
  {
   "cell_type": "code",
   "execution_count": 233,
   "metadata": {},
   "outputs": [
    {
     "name": "stdout",
     "output_type": "stream",
     "text": [
      "Any tumor volume below 25.36 is deemed an outlier.\n",
      "Any tumor volume above 87.67 is deemed an outlier.\n"
     ]
    }
   ],
   "source": [
    "# Ceftamin\n",
    "\n",
    "ceftamin = merge_mouse_data.loc[merge_mouse_data['Drug Regimen'] == 'Ceftamin']['Tumor Volume (mm3)'] \n",
    "\n",
    "\n",
    "\n",
    "# Calculate the IQR and quantitatively determine if there are any potential outliers. \n",
    "#find quartiles \n",
    "#QUANTILE NOT QUANTILES\n",
    "quartile_ceft = ceftamin.quantile([.25,.5,.75])\n",
    "ceft_lower = quartile_ceft[0.25] \n",
    "ceft_upper = quartile_ceft[0.75] \n",
    "iqr_ceft = ceft_upper - ceft_lower\n",
    "ceft_low_out = ceft_lower-(1.5*iqr_ceft)\n",
    "ceft_up_out = ceft_upper+(1.5*iqr_ceft) \n",
    "\n",
    "print(f\"Any tumor volume below {round(ceft_low_out,2)} is deemed an outlier.\")\n",
    "print(f\"Any tumor volume above {round(ceft_up_out,2)} is deemed an outlier.\") "
   ]
  },
  {
   "cell_type": "code",
   "execution_count": 228,
   "metadata": {},
   "outputs": [
    {
     "data": {
      "image/png": "[encoded data removed]",
      "text/plain": [
       "<Figure size 432x288 with 1 Axes>"
      ]
     },
     "metadata": {
      "needs_background": "light"
     },
     "output_type": "display_data"
    }
   ],
   "source": [
    "# Generate a box plot of the final tumor volume of each mouse across four regimens of interest\n",
    "#take the variables you have created as the array, put labels in from the list you created earlier\n",
    "# rubric calls for coloring in the outliers\n",
    "plt.boxplot([capomulin,ramicane,infubinol,ceftamin], labels=treatment_list) \n",
    "plt.title(\"Final Tumor Volume by Treatment\")\n",
    "plt.ylabel(\"Tumor Volumen (mm3)\") \n",
    "plt.show() "
   ]
  },
  {
   "cell_type": "markdown",
   "metadata": {},
   "source": [
    "Line and Scatter Plots"
   ]
  },
  {
   "cell_type": "code",
   "execution_count": 243,
   "metadata": {
    "scrolled": true
   },
   "outputs": [
    {
     "data": {
      "image/png": "[encoded data removed]",
      "text/plain": [
       "<Figure size 432x288 with 1 Axes>"
      ]
     },
     "metadata": {
      "needs_background": "light"
     },
     "output_type": "display_data"
    }
   ],
   "source": [
    "# Generate a line plot of time point versus tumor volume for a mouse treated with Capomulin\n",
    "# DON'T USE MERGR_MOUSE_DATA it only shows the final volume\n",
    "#locate a mouse \n",
    "capo_mouse = cleaned_mouse_data.loc[cleaned_mouse_data['Mouse ID'] == 'b128'] \n",
    "mouse_timepoint = capo_mouse['Timepoint']\n",
    "mouse_tumor = capo_mouse['Tumor Volume (mm3)'] \n",
    "\n",
    "plt.plot(mouse_timepoint, mouse_tumor)\n",
    "plt.ylabel('Tumor Volume (mm3)')\n",
    "plt.xlabel('Timepoints Across Trial')\n",
    "plt.title('Change in Tumor Volume of Mouse b128 during Capomulin Trial')\n",
    "plt.show()\n",
    "\n"
   ]
  },
  {
   "cell_type": "code",
   "execution_count": 255,
   "metadata": {},
   "outputs": [
    {
     "data": {
      "image/png": "[encoded data removed]",
      "text/plain": [
       "<Figure size 432x288 with 1 Axes>"
      ]
     },
     "metadata": {
      "needs_background": "light"
     },
     "output_type": "display_data"
    }
   ],
   "source": [
    "# Generate a scatter plot of mouse weight versus average tumor volume for the Capomulin regimen\n",
    "# find mice on regimen\n",
    "capo_reg = cleaned_mouse_data.loc[cleaned_mouse_data['Drug Regimen'] == 'Capomulin']\n",
    "# group all mice by their individual id and take average\n",
    "capo_reg_group = capo_reg.groupby(['Mouse ID']).mean() \n",
    "\n",
    "capo_weight = capo_reg_group['Weight (g)'] \n",
    "# capo_weight\n",
    "\n",
    "capo_tumor_vol = capo_reg_group['Tumor Volume (mm3)'] \n",
    "# capo_tumor_vol\n",
    "\n",
    "plt.scatter(capo_weight, capo_tumor_vol)\n",
    "plt.title(\"Mouse Weight vs. Average Tumor Volume for Mice in the Capomulin Regiment\")\n",
    "plt.xlabel(\"Mouse Weight (g)\") \n",
    "plt.ylabel(\"Tumor Volumen (mm3)\") \n",
    "plt.show() \n",
    "\n",
    "\n"
   ]
  },
  {
   "cell_type": "markdown",
   "metadata": {},
   "source": [
    "Correlation and Regression"
   ]
  },
  {
   "cell_type": "code",
   "execution_count": null,
   "metadata": {},
   "outputs": [],
   "source": []
  }
 ],
 "metadata": {
  "kernelspec": {
   "display_name": "Python 3",
   "language": "python",
   "name": "python3"
  },
  "language_info": {
   "codemirror_mode": {
    "name": "ipython",
    "version": 3
   },
   "file_extension": ".py",
   "mimetype": "text/x-python",
   "name": "python",
   "nbconvert_exporter": "python",
   "pygments_lexer": "ipython3",
   "version": "3.7.6"
  }
 },
 "nbformat": 4,
 "nbformat_minor": 4
}
